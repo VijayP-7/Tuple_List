{
 "cells": [
  {
   "cell_type": "markdown",
   "id": "28f21ddb",
   "metadata": {},
   "source": [
    "## List and tuple Assignments 2"
   ]
  },
  {
   "cell_type": "code",
   "execution_count": 4,
   "id": "3d155daf",
   "metadata": {},
   "outputs": [
    {
     "data": {
      "text/plain": [
       "[(2, 1), (1, 2), (2, 3), (4, 4), (2, 5)]"
      ]
     },
     "execution_count": 4,
     "metadata": {},
     "output_type": "execute_result"
    }
   ],
   "source": [
    "list = [(2, 5), (1, 2), (4, 4), (2, 3), (2, 1)]\n",
    "\n",
    "for i in range(len(list)):\n",
    "    for j in range(len(list)):\n",
    "        if list[i][1]<list[j][1]:\n",
    "            list[i],list[j] = list[j],list[i]\n",
    "list"
   ]
  },
  {
   "cell_type": "code",
   "execution_count": null,
   "id": "26eda9d6",
   "metadata": {},
   "outputs": [],
   "source": []
  }
 ],
 "metadata": {
  "kernelspec": {
   "display_name": "Python 3 (ipykernel)",
   "language": "python",
   "name": "python3"
  },
  "language_info": {
   "codemirror_mode": {
    "name": "ipython",
    "version": 3
   },
   "file_extension": ".py",
   "mimetype": "text/x-python",
   "name": "python",
   "nbconvert_exporter": "python",
   "pygments_lexer": "ipython3",
   "version": "3.9.12"
  }
 },
 "nbformat": 4,
 "nbformat_minor": 5
}
